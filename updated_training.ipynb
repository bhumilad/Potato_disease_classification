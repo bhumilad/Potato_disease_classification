{
 "cells": [
  {
   "cell_type": "markdown",
   "id": "586499e1-1624-41bb-97c9-e21979c7be2c",
   "metadata": {},
   "source": [
    "## Potato Disease Classification"
   ]
  },
  {
   "cell_type": "code",
   "execution_count": 1,
   "id": "2c456ef4",
   "metadata": {},
   "outputs": [
    {
     "name": "stderr",
     "output_type": "stream",
     "text": [
      "C:\\Users\\yashg\\anaconda3\\envs\\tf_keras_env\\lib\\site-packages\\requests\\__init__.py:86: RequestsDependencyWarning: Unable to find acceptable character detection dependency (chardet or charset_normalizer).\n",
      "  warnings.warn(\n"
     ]
    }
   ],
   "source": [
    "import tensorflow as tf\n",
    "from tensorflow.keras import models, layers\n",
    "import matplotlib.pyplot as plt\n",
    "from tensorflow.keras.preprocessing.image import ImageDataGenerator\n",
    "import scipy"
   ]
  },
  {
   "cell_type": "markdown",
   "id": "d1e41492-0163-46be-b01f-81d1d160f039",
   "metadata": {},
   "source": [
    "### Import data into tensorflow dataset object"
   ]
  },
  {
   "cell_type": "code",
   "execution_count": 2,
   "id": "8488ac7e",
   "metadata": {},
   "outputs": [],
   "source": [
    "\n",
    "IMAGE_SIZE = 256\n",
    "CHANNELS = 3"
   ]
  },
  {
   "cell_type": "code",
   "execution_count": 3,
   "id": "d3de8587-769c-4141-b521-1480fb76fecd",
   "metadata": {},
   "outputs": [
    {
     "name": "stdout",
     "output_type": "stream",
     "text": [
      "Requirement already satisfied: split-folders in c:\\users\\yashg\\anaconda3\\envs\\tf_keras_env\\lib\\site-packages (0.5.1)\n"
     ]
    }
   ],
   "source": [
    "!pip install split-folders\n"
   ]
  },
  {
   "cell_type": "code",
   "execution_count": 4,
   "id": "05f06446-3069-4901-a606-44f39c60c858",
   "metadata": {},
   "outputs": [
    {
     "name": "stdout",
     "output_type": "stream",
     "text": [
      "Found 1506 images belonging to 3 classes.\n"
     ]
    }
   ],
   "source": [
    "train_datagen = ImageDataGenerator(\n",
    "rescale = 1./255,\n",
    "    rotation_range = 10,\n",
    "    horizontal_flip = True\n",
    ")\n",
    "\n",
    "train_generator = train_datagen.flow_from_directory(\n",
    "'dataset/train',\n",
    "    target_size = (IMAGE_SIZE, IMAGE_SIZE),\n",
    "    batch_size = 32,\n",
    "    class_mode = \"sparse\"\n",
    ")\n"
   ]
  },
  {
   "cell_type": "code",
   "execution_count": 5,
   "id": "9fb53537-1613-46fc-891c-1bf76d8cb9bc",
   "metadata": {},
   "outputs": [
    {
     "data": {
      "text/plain": [
       "{'Potato___Early_blight': 0, 'Potato___Late_blight': 1, 'Potato___healthy': 2}"
      ]
     },
     "execution_count": 5,
     "metadata": {},
     "output_type": "execute_result"
    }
   ],
   "source": [
    "train_generator.class_indices"
   ]
  },
  {
   "cell_type": "code",
   "execution_count": 6,
   "id": "ccf2158b-e1dc-41b4-99f3-d724fb6f33a2",
   "metadata": {},
   "outputs": [
    {
     "data": {
      "text/plain": [
       "['Potato___Early_blight', 'Potato___Late_blight', 'Potato___healthy']"
      ]
     },
     "execution_count": 6,
     "metadata": {},
     "output_type": "execute_result"
    }
   ],
   "source": [
    "class_names = list(train_generator.class_indices.keys())\n",
    "class_names"
   ]
  },
  {
   "cell_type": "code",
   "execution_count": 7,
   "id": "c03530f1-ecc5-41d2-b069-cf8e8f82fa82",
   "metadata": {},
   "outputs": [],
   "source": [
    "# count=0\n",
    "# for image_batch, label_batch in train_generator:\n",
    "#     print(image_batch[0])\n",
    "#     break"
   ]
  },
  {
   "cell_type": "code",
   "execution_count": 8,
   "id": "f7adafa6-cd43-443b-8e78-cf75a2cacd60",
   "metadata": {},
   "outputs": [
    {
     "name": "stdout",
     "output_type": "stream",
     "text": [
      "Found 215 images belonging to 3 classes.\n"
     ]
    }
   ],
   "source": [
    "validation_datagen = ImageDataGenerator(\n",
    "        rescale=1./255,\n",
    "        rotation_range=10,\n",
    "        horizontal_flip=True)\n",
    "validation_generator = validation_datagen.flow_from_directory(\n",
    "        'dataset/val',\n",
    "        target_size=(IMAGE_SIZE,IMAGE_SIZE),\n",
    "        batch_size=32,\n",
    "        class_mode=\"sparse\"\n",
    ")"
   ]
  },
  {
   "cell_type": "code",
   "execution_count": 9,
   "id": "5279fb2b-b075-47fe-9e6a-c2048a9e7e37",
   "metadata": {},
   "outputs": [
    {
     "name": "stdout",
     "output_type": "stream",
     "text": [
      "Found 431 images belonging to 3 classes.\n"
     ]
    }
   ],
   "source": [
    "test_datagen = ImageDataGenerator(\n",
    "        rescale=1./255,\n",
    "        rotation_range=10,\n",
    "        horizontal_flip=True)\n",
    "\n",
    "test_generator = test_datagen.flow_from_directory(\n",
    "        'dataset/test',\n",
    "        target_size=(IMAGE_SIZE,IMAGE_SIZE),\n",
    "        batch_size=32,\n",
    "        class_mode=\"sparse\"\n",
    ")"
   ]
  },
  {
   "cell_type": "code",
   "execution_count": 10,
   "id": "acf323f3-b060-4913-9bd1-d6f00890c385",
   "metadata": {},
   "outputs": [],
   "source": [
    "# for image_batch, label_batch in test_generator:\n",
    "#     print(image_batch[0])\n",
    "#     break"
   ]
  },
  {
   "cell_type": "markdown",
   "id": "49440b67-defc-4b4a-a652-2daf4205fb45",
   "metadata": {},
   "source": [
    "### Building the Model"
   ]
  },
  {
   "cell_type": "code",
   "execution_count": 11,
   "id": "01852a75-53a7-4178-aced-a6355205d937",
   "metadata": {
    "jupyter": {
     "source_hidden": true
    }
   },
   "outputs": [],
   "source": [
    "input_shape = (IMAGE_SIZE, IMAGE_SIZE, CHANNELS)\n",
    "n_classes = 3\n",
    "\n",
    "model = models.Sequential([\n",
    "    layers.InputLayer(input_shape=input_shape),\n",
    "    layers.Conv2D(32, kernel_size = (3,3), activation='relu'),\n",
    "    layers.MaxPooling2D((2, 2)),\n",
    "    layers.Conv2D(64,  kernel_size = (3,3), activation='relu'),\n",
    "    layers.MaxPooling2D((2, 2)),\n",
    "    layers.Conv2D(64,  kernel_size = (3,3), activation='relu'),\n",
    "    layers.MaxPooling2D((2, 2)),\n",
    "    layers.Conv2D(64, (3, 3), activation='relu'),\n",
    "    layers.MaxPooling2D((2, 2)),\n",
    "    layers.Conv2D(64, (3, 3), activation='relu'),\n",
    "    layers.MaxPooling2D((2, 2)),\n",
    "    layers.Conv2D(64, (3, 3), activation='relu'),\n",
    "    layers.MaxPooling2D((2, 2)),\n",
    "    layers.Flatten(),\n",
    "    layers.Dense(64, activation='relu'),\n",
    "    layers.Dense(n_classes, activation='softmax'),\n",
    "])"
   ]
  },
  {
   "cell_type": "code",
   "execution_count": 12,
   "id": "69c2d577-4a2a-4c5c-bec3-b8584bbe8d37",
   "metadata": {},
   "outputs": [
    {
     "name": "stdout",
     "output_type": "stream",
     "text": [
      "Model: \"sequential\"\n",
      "_________________________________________________________________\n",
      " Layer (type)                Output Shape              Param #   \n",
      "=================================================================\n",
      " conv2d (Conv2D)             (None, 254, 254, 32)      896       \n",
      "                                                                 \n",
      " max_pooling2d (MaxPooling2  (None, 127, 127, 32)      0         \n",
      " D)                                                              \n",
      "                                                                 \n",
      " conv2d_1 (Conv2D)           (None, 125, 125, 64)      18496     \n",
      "                                                                 \n",
      " max_pooling2d_1 (MaxPoolin  (None, 62, 62, 64)        0         \n",
      " g2D)                                                            \n",
      "                                                                 \n",
      " conv2d_2 (Conv2D)           (None, 60, 60, 64)        36928     \n",
      "                                                                 \n",
      " max_pooling2d_2 (MaxPoolin  (None, 30, 30, 64)        0         \n",
      " g2D)                                                            \n",
      "                                                                 \n",
      " conv2d_3 (Conv2D)           (None, 28, 28, 64)        36928     \n",
      "                                                                 \n",
      " max_pooling2d_3 (MaxPoolin  (None, 14, 14, 64)        0         \n",
      " g2D)                                                            \n",
      "                                                                 \n",
      " conv2d_4 (Conv2D)           (None, 12, 12, 64)        36928     \n",
      "                                                                 \n",
      " max_pooling2d_4 (MaxPoolin  (None, 6, 6, 64)          0         \n",
      " g2D)                                                            \n",
      "                                                                 \n",
      " conv2d_5 (Conv2D)           (None, 4, 4, 64)          36928     \n",
      "                                                                 \n",
      " max_pooling2d_5 (MaxPoolin  (None, 2, 2, 64)          0         \n",
      " g2D)                                                            \n",
      "                                                                 \n",
      " flatten (Flatten)           (None, 256)               0         \n",
      "                                                                 \n",
      " dense (Dense)               (None, 64)                16448     \n",
      "                                                                 \n",
      " dense_1 (Dense)             (None, 3)                 195       \n",
      "                                                                 \n",
      "=================================================================\n",
      "Total params: 183747 (717.76 KB)\n",
      "Trainable params: 183747 (717.76 KB)\n",
      "Non-trainable params: 0 (0.00 Byte)\n",
      "_________________________________________________________________\n"
     ]
    }
   ],
   "source": [
    "model.summary()"
   ]
  },
  {
   "cell_type": "markdown",
   "id": "b4cf2a86-3b0d-455e-b6c3-058d3dbdcee5",
   "metadata": {},
   "source": [
    "### Compiling the model\n",
    "\n",
    "use adam optimizer, SparseCategoricalCrossentropy for losses, accuracy as metric."
   ]
  },
  {
   "cell_type": "code",
   "execution_count": 13,
   "id": "a43bba90-06d0-4fc5-bb74-9292cce48ebe",
   "metadata": {},
   "outputs": [],
   "source": [
    "model.compile(\n",
    "    optimizer='adam',\n",
    "    loss=tf.keras.losses.SparseCategoricalCrossentropy(from_logits=False),\n",
    "    metrics=['accuracy']\n",
    ")"
   ]
  },
  {
   "cell_type": "code",
   "execution_count": 14,
   "id": "d9168416-6805-479a-a98d-ebe493f732ce",
   "metadata": {},
   "outputs": [
    {
     "name": "stdout",
     "output_type": "stream",
     "text": [
      "Epoch 1/20\n",
      "47/47 [==============================] - 88s 2s/step - loss: 0.9053 - accuracy: 0.4790 - val_loss: 0.8671 - val_accuracy: 0.6354\n",
      "Epoch 2/20\n",
      "47/47 [==============================] - 78s 2s/step - loss: 0.7802 - accuracy: 0.6269 - val_loss: 1.0127 - val_accuracy: 0.4896\n",
      "Epoch 3/20\n",
      "47/47 [==============================] - 77s 2s/step - loss: 0.5340 - accuracy: 0.7564 - val_loss: 0.3653 - val_accuracy: 0.8594\n",
      "Epoch 4/20\n",
      "47/47 [==============================] - 76s 2s/step - loss: 0.3885 - accuracy: 0.8412 - val_loss: 0.3927 - val_accuracy: 0.8229\n",
      "Epoch 5/20\n",
      "47/47 [==============================] - 76s 2s/step - loss: 0.3276 - accuracy: 0.8684 - val_loss: 0.2723 - val_accuracy: 0.8906\n",
      "Epoch 6/20\n",
      "47/47 [==============================] - 77s 2s/step - loss: 0.2477 - accuracy: 0.9030 - val_loss: 0.2541 - val_accuracy: 0.8854\n",
      "Epoch 7/20\n",
      "47/47 [==============================] - 77s 2s/step - loss: 0.2183 - accuracy: 0.9098 - val_loss: 0.2069 - val_accuracy: 0.9167\n",
      "Epoch 8/20\n",
      "47/47 [==============================] - 77s 2s/step - loss: 0.1858 - accuracy: 0.9301 - val_loss: 0.2558 - val_accuracy: 0.8854\n",
      "Epoch 9/20\n",
      "47/47 [==============================] - 76s 2s/step - loss: 0.2825 - accuracy: 0.8969 - val_loss: 0.2464 - val_accuracy: 0.9062\n",
      "Epoch 10/20\n",
      "47/47 [==============================] - 73s 2s/step - loss: 0.1532 - accuracy: 0.9423 - val_loss: 0.1708 - val_accuracy: 0.9167\n",
      "Epoch 11/20\n",
      "47/47 [==============================] - 73s 2s/step - loss: 0.1278 - accuracy: 0.9518 - val_loss: 0.0811 - val_accuracy: 0.9688\n",
      "Epoch 12/20\n",
      "47/47 [==============================] - 74s 2s/step - loss: 0.1278 - accuracy: 0.9478 - val_loss: 0.1153 - val_accuracy: 0.9427\n",
      "Epoch 13/20\n",
      "47/47 [==============================] - 74s 2s/step - loss: 0.1222 - accuracy: 0.9586 - val_loss: 0.1159 - val_accuracy: 0.9531\n",
      "Epoch 14/20\n",
      "47/47 [==============================] - 74s 2s/step - loss: 0.0880 - accuracy: 0.9654 - val_loss: 0.0466 - val_accuracy: 0.9896\n",
      "Epoch 15/20\n",
      "47/47 [==============================] - 76s 2s/step - loss: 0.0700 - accuracy: 0.9735 - val_loss: 0.0810 - val_accuracy: 0.9583\n",
      "Epoch 16/20\n",
      "47/47 [==============================] - 75s 2s/step - loss: 0.0545 - accuracy: 0.9830 - val_loss: 0.1788 - val_accuracy: 0.9375\n",
      "Epoch 17/20\n",
      "47/47 [==============================] - 75s 2s/step - loss: 0.0723 - accuracy: 0.9769 - val_loss: 0.1044 - val_accuracy: 0.9688\n",
      "Epoch 18/20\n",
      "47/47 [==============================] - 76s 2s/step - loss: 0.0557 - accuracy: 0.9796 - val_loss: 0.0423 - val_accuracy: 0.9896\n",
      "Epoch 19/20\n",
      "47/47 [==============================] - 76s 2s/step - loss: 0.0385 - accuracy: 0.9878 - val_loss: 0.0299 - val_accuracy: 0.9896\n",
      "Epoch 20/20\n",
      "47/47 [==============================] - 76s 2s/step - loss: 0.0578 - accuracy: 0.9810 - val_loss: 0.0182 - val_accuracy: 1.0000\n"
     ]
    }
   ],
   "source": [
    "history = model.fit(\n",
    "    train_generator,\n",
    "    steps_per_epoch=47,\n",
    "    batch_size=32,\n",
    "    validation_data=validation_generator,\n",
    "    validation_steps=6,\n",
    "    verbose=1,\n",
    "    epochs=20,\n",
    ")"
   ]
  },
  {
   "cell_type": "code",
   "execution_count": 15,
   "id": "2668587f-cb14-404f-9999-d9036cca3b1b",
   "metadata": {},
   "outputs": [
    {
     "name": "stdout",
     "output_type": "stream",
     "text": [
      "14/14 [==============================] - 6s 451ms/step - loss: 0.0776 - accuracy: 0.9814\n"
     ]
    }
   ],
   "source": [
    "scores = model.evaluate(test_generator)"
   ]
  },
  {
   "cell_type": "code",
   "execution_count": 16,
   "id": "fc8875a0-04d7-4898-88d3-1570b133a6f9",
   "metadata": {},
   "outputs": [
    {
     "data": {
      "text/plain": [
       "[0.07761137187480927, 0.9814385175704956]"
      ]
     },
     "execution_count": 16,
     "metadata": {},
     "output_type": "execute_result"
    }
   ],
   "source": [
    "scores #Scores is just a list containing loss and accuracy value"
   ]
  },
  {
   "cell_type": "markdown",
   "id": "012fb39a-e0cf-420d-bed2-a3ff6b2c7546",
   "metadata": {},
   "source": [
    "### Plotting the Accuracy and Loss Curves"
   ]
  },
  {
   "cell_type": "code",
   "execution_count": 18,
   "id": "c114845f-7284-471d-ac6a-941c7c0fc8bd",
   "metadata": {},
   "outputs": [
    {
     "data": {
      "text/plain": [
       "<keras.src.callbacks.History at 0x2152262ad90>"
      ]
     },
     "execution_count": 18,
     "metadata": {},
     "output_type": "execute_result"
    }
   ],
   "source": [
    "history"
   ]
  },
  {
   "cell_type": "code",
   "execution_count": 19,
   "id": "fe149f44-d314-4fbd-858f-82b0e820494e",
   "metadata": {},
   "outputs": [
    {
     "data": {
      "text/plain": [
       "{'verbose': 1, 'epochs': 20, 'steps': 47}"
      ]
     },
     "execution_count": 19,
     "metadata": {},
     "output_type": "execute_result"
    }
   ],
   "source": [
    "history.params"
   ]
  },
  {
   "cell_type": "code",
   "execution_count": 20,
   "id": "64ac31f7-77e1-4fcd-ad16-82a1887b5506",
   "metadata": {},
   "outputs": [
    {
     "data": {
      "text/plain": [
       "dict_keys(['loss', 'accuracy', 'val_loss', 'val_accuracy'])"
      ]
     },
     "execution_count": 20,
     "metadata": {},
     "output_type": "execute_result"
    }
   ],
   "source": [
    "history.history.keys()"
   ]
  },
  {
   "cell_type": "code",
   "execution_count": 21,
   "id": "70004c6a-78ad-4c88-99c2-b5ac820df18f",
   "metadata": {},
   "outputs": [],
   "source": [
    "acc = history.history['accuracy']\n",
    "val_acc = history.history['val_accuracy']\n",
    "\n",
    "loss = history.history['loss']\n",
    "val_loss = history.history['val_loss']\n"
   ]
  },
  {
   "cell_type": "code",
   "execution_count": 22,
   "id": "d991af90-b683-4e13-8204-2dfd0bc9241d",
   "metadata": {},
   "outputs": [
    {
     "data": {
      "image/png": "[encoded data removed]",
      "text/plain": [
       "<Figure size 800x800 with 2 Axes>"
      ]
     },
     "metadata": {},
     "output_type": "display_data"
    }
   ],
   "source": [
    "EPOCHS = 20\n",
    "\n",
    "plt.figure(figsize=(8, 8))\n",
    "plt.subplot(1, 2, 1)\n",
    "plt.plot(range(EPOCHS), acc, label='Training Accuracy')\n",
    "plt.plot(range(EPOCHS), val_acc, label='Validation Accuracy')\n",
    "plt.legend(loc='lower right')\n",
    "plt.title('Training and Validation Accuracy')\n",
    "\n",
    "plt.subplot(1, 2, 2)\n",
    "plt.plot(range(EPOCHS), loss, label='Training Loss')\n",
    "plt.plot(range(EPOCHS), val_loss, label='Validation Loss')\n",
    "plt.legend(loc='upper right')\n",
    "plt.title('Training and Validation Loss')\n",
    "plt.show()"
   ]
  },
  {
   "cell_type": "markdown",
   "id": "595623ef-2c83-4c2a-9cce-42b01086a66d",
   "metadata": {},
   "source": [
    "### Run prediction on a simple image"
   ]
  },
  {
   "cell_type": "code",
   "execution_count": null,
   "id": "a7499858-d9e6-486b-b413-e18c3b3b9551",
   "metadata": {},
   "outputs": [],
   "source": [
    "import numpy as np\n",
    "\n",
    "for image_batch, label_batch in test_generator:\n",
    "    first_image = image_batch[0]\n",
    "    first_label = int(labels_batch[0])\n",
    "    \n",
    "    print(\"first image to predict\")\n",
    "    plt.imshow(first_image)\n",
    "    print(\"actual label:\",class_names[first_label])\n",
    "    \n",
    "    batch_prediction = model.predict(images_batch)\n",
    "    print(\"predicted label:\",class_names[np.argmax(batch_prediction[0])])\n",
    "    \n",
    "    break"
   ]
  },
  {
   "cell_type": "markdown",
   "id": "51fe340d-4e45-4789-b84b-c0c9a7bc4b3e",
   "metadata": {},
   "source": [
    "### Write a function for interfere"
   ]
  },
  {
   "cell_type": "code",
   "execution_count": 23,
   "id": "f2c0cfb9-76a8-464b-b9b9-3867cc8fb4d6",
   "metadata": {},
   "outputs": [],
   "source": [
    "def predict(model, img):\n",
    "    img_array = tf.keras.preprocessing.image.img_to_array(images[i])\n",
    "    img_array = tf.expand_dims(img_array, 0)\n",
    "\n",
    "    predictions = model.predict(img_array)\n",
    "\n",
    "    predicted_class = class_names[np.argmax(predictions[0])]\n",
    "    confidence = round(100 * (np.max(predictions[0])), 2)\n",
    "    return predicted_class, confidence"
   ]
  },
  {
   "cell_type": "markdown",
   "id": "b3787042-7e64-4650-aae9-ec6fddb19021",
   "metadata": {},
   "source": [
    "### Saving the model"
   ]
  },
  {
   "cell_type": "code",
   "execution_count": 24,
   "id": "fb176303-dc0d-45f8-8bed-6c3983cb2b35",
   "metadata": {},
   "outputs": [
    {
     "name": "stderr",
     "output_type": "stream",
     "text": [
      "C:\\Users\\yashg\\anaconda3\\envs\\tf_keras_env\\lib\\site-packages\\keras\\src\\engine\\training.py:3000: UserWarning: You are saving your model as an HDF5 file via `model.save()`. This file format is considered legacy. We recommend using instead the native Keras format, e.g. `model.save('my_model.keras')`.\n",
      "  saving_api.save_model(\n"
     ]
    }
   ],
   "source": [
    "model.save('C:Users/yashg/Desktop/sain_DL_potatodisease/potatos.h5')"
   ]
  },
  {
   "cell_type": "code",
   "execution_count": null,
   "id": "c514b1e7-a576-4a31-b98e-6103af67a49d",
   "metadata": {},
   "outputs": [],
   "source": []
  }
 ],
 "metadata": {
  "kernelspec": {
   "display_name": "Python 3 (ipykernel)",
   "language": "python",
   "name": "python3"
  },
  "language_info": {
   "codemirror_mode": {
    "name": "ipython",
    "version": 3
   },
   "file_extension": ".py",
   "mimetype": "text/x-python",
   "name": "python",
   "nbconvert_exporter": "python",
   "pygments_lexer": "ipython3",
   "version": "3.9.23"
  }
 },
 "nbformat": 4,
 "nbformat_minor": 5
}
